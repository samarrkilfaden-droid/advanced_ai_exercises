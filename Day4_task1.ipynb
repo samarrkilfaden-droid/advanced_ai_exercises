{
  "nbformat": 4,
  "nbformat_minor": 0,
  "metadata": {
    "colab": {
      "provenance": [],
      "authorship_tag": "ABX9TyOp7OfUYSSd0Biv3yupmKMn",
      "include_colab_link": true
    },
    "kernelspec": {
      "name": "python3",
      "display_name": "Python 3"
    },
    "language_info": {
      "name": "python"
    }
  },
  "cells": [
    {
      "cell_type": "markdown",
      "metadata": {
        "id": "view-in-github",
        "colab_type": "text"
      },
      "source": [
        "<a href=\"https://colab.research.google.com/github/samarrkilfaden-droid/advanced_ai_exercises/blob/main/Day4_task1.ipynb\" target=\"_parent\"><img src=\"https://colab.research.google.com/assets/colab-badge.svg\" alt=\"Open In Colab\"/></a>"
      ]
    },
    {
      "cell_type": "code",
      "execution_count": 1,
      "metadata": {
        "id": "-i1uL9bpAegw"
      },
      "outputs": [],
      "source": [
        "\n",
        "import torch, torchvision\n",
        "import torch.nn as nn\n",
        "from torch.utils.data import DataLoader\n",
        "from torchvision import transforms\n",
        "\n",
        "device = torch.device('cuda' if torch.cuda.is_available() else 'cpu')\n",
        ""
      ]
    },
    {
      "cell_type": "code",
      "source": [
        "# ---------------------------\n",
        "# Data\n",
        "# ---------------------------\n",
        "transform = transforms.Compose([\n",
        "    transforms.Resize(32),\n",
        "    transforms.ToTensor()              # BUG\n",
        "])\n",
        "ds = torchvision.datasets.CIFAR10('./data', download=True, train=True, transform=transform)\n",
        "loader = DataLoader(ds, batch_size=128, shuffle=True, num_workers=2, pin_memory=True)"
      ],
      "metadata": {
        "id": "DbXFtbr0AnW9"
      },
      "execution_count": 17,
      "outputs": []
    },
    {
      "cell_type": "code",
      "source": [
        "# ---------------------------\n",
        "# Hyperparams\n",
        "# ---------------------------\n",
        "z_dim = 100\n",
        "g_lr  = 2e-4  # BUG\n",
        "d_lr  = 2e-4\n",
        ""
      ],
      "metadata": {
        "id": "Atm0yjofArUa"
      },
      "execution_count": 18,
      "outputs": []
    },
    {
      "cell_type": "code",
      "source": [
        "\n",
        "# ---------------------------\n",
        "# Models\n",
        "# ---------------------------\n",
        "class D(nn.Module):\n",
        "    def __init__(self, ch=64):\n",
        "        super().__init__()\n",
        "        self.z_dim = z_dim\n",
        "        self.net = nn.Sequential(\n",
        "            nn.Conv2d(3, ch, 4, 2, 1),\n",
        "            nn.LeakyReLU(0.2, inplace=True),  # Changed to LeakyReLU\n",
        "            nn.Conv2d(ch, ch*2, 4, 2, 1),\n",
        "            nn.BatchNorm2d(ch*2),\n",
        "            nn.LeakyReLU(0.2, inplace=True),\n",
        "            nn.Conv2d(ch*2, ch*4, 4, 2, 1),\n",
        "            nn.BatchNorm2d(ch*4),\n",
        "            nn.LeakyReLU(0.2, inplace=True),\n",
        "            nn.Conv2d(ch*4, 1, 4, 1, 0)\n",
        "            # Removed Sigmoid\n",
        "        )\n",
        "\n",
        "    def forward(self, x):\n",
        "        return self.net(x).view(x.size(0))\n",
        "\n",
        "class G(nn.Module):\n",
        "    def __init__(self, z=100, ch=64):\n",
        "        super().__init__()\n",
        "        self.z_dim = z_dim\n",
        "        self.net = nn.Sequential(\n",
        "            nn.ConvTranspose2d(z,   ch*4, 4, 1, 0, bias=False),\n",
        "            nn.BatchNorm2d(ch*4), nn.ReLU(True),\n",
        "            nn.ConvTranspose2d(ch*4, ch*2, 4, 2, 1, bias=False),\n",
        "            nn.BatchNorm2d(ch*2), nn.ReLU(True),\n",
        "            nn.ConvTranspose2d(ch*2, ch,   4, 2, 1, bias=False),\n",
        "            nn.BatchNorm2d(ch),   nn.ReLU(True),\n",
        "            nn.ConvTranspose2d(ch,  3,     4, 2, 1, bias=False),\n",
        "            nn.Tanh()\n",
        "            # BUG\n",
        "        )\n",
        "    def forward(self, z):\n",
        "        z = z.view(z.size(0), self.z_dim , 1, 1)   # BUG\n",
        "        return self.net(z)\n",
        "\n",
        "Dnet = D().to(device)\n",
        "Gnet = G(z_dim).to(device)\n",
        ""
      ],
      "metadata": {
        "id": "BFkD2XcmAvfH"
      },
      "execution_count": 25,
      "outputs": []
    },
    {
      "cell_type": "code",
      "source": [
        "\n",
        "# ---------------------------\n",
        "# Loss & Optimizers\n",
        "# ---------------------------\n",
        "crit = nn.BCEWithLogitsLoss()             # using logits loss → D must NOT have Sigmoid\n",
        "opt_d = torch.optim.Adam(Dnet.parameters(), lr=d_lr, betas=(0.9, 0.999))\n",
        "opt_g = torch.optim.Adam(Gnet.parameters(), lr=g_lr,  betas=(0.9, 0.999))\n",
        ""
      ],
      "metadata": {
        "id": "x8UCgszMAvmm"
      },
      "execution_count": 26,
      "outputs": []
    },
    {
      "cell_type": "code",
      "source": [
        "\n",
        "# ---------------------------\n",
        "# Training (intentionally wrong)\n",
        "# ---------------------------\n",
        "\n",
        "Gnet.train()\n",
        "Dnet.train()\n",
        "\n",
        "for real, _ in loader:\n",
        "    real = real.to(device)\n",
        "    b = real.size(0)\n",
        "\n",
        "    opt_d.zero_grad(set_to_none=True)\n",
        "\n",
        "\n",
        "    # ---- Discriminator step (generating a batch of fake images) ----\n",
        "    z = torch.randn(b, z_dim, device=device)#This creates a tensor of shape (b, z_dim) filled with random values sampled from a standard normal distribution/# Sample random latent vectors\n",
        "    fake = Gnet(z.view(b,z_dim,1,1)) # Generate fake images from the latent vectors\n",
        "\n",
        "    # BUG\n",
        "    loss_d = crit(Dnet(real), torch.ones(b, device=device)) +\\\n",
        "    crit(Dnet(fake), torch.zeros(b, device=device))\n",
        "\n",
        "    loss_d.backward()\n",
        "    opt_d.step()                           # BUG\n",
        "\n",
        "    opt_g.zero_grad(set_to_none=True)\n",
        "    # ---- Generator step ----\n",
        "    z = torch.randn(b, z_dim, device=device)\n",
        "    fake = Gnet(z.view(b,z_dim,1,1))\n",
        "    # BUG\n",
        "    loss_g = crit(Dnet(fake), torch.ones(b, device=device))\n",
        "    loss_g.backward()\n",
        "    opt_g.step()                           # BUG\n",
        "\n",
        "    break  # keep single mini-batch for this broken demo\n",
        "\n",
        "print(\"Your task: fix all 10 bugs until training runs and samples look reasonable.\")"
      ],
      "metadata": {
        "colab": {
          "base_uri": "https://localhost:8080/"
        },
        "id": "c1_fdVkjAvuY",
        "outputId": "c49bd59c-5989-4c75-d18b-5ff7fc1fe93e"
      },
      "execution_count": 29,
      "outputs": [
        {
          "output_type": "stream",
          "name": "stdout",
          "text": [
            "Your task: fix all 10 bugs until training runs and samples look reasonable.\n"
          ]
        }
      ]
    },
    {
      "cell_type": "code",
      "source": [],
      "metadata": {
        "id": "opzbpWa_AwAx"
      },
      "execution_count": null,
      "outputs": []
    }
  ]
}