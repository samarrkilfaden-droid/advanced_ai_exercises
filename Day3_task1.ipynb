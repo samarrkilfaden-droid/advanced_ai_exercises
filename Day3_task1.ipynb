{
  "nbformat": 4,
  "nbformat_minor": 0,
  "metadata": {
    "colab": {
      "provenance": [],
      "authorship_tag": "ABX9TyPw1vyJDglrQ3qfFeXiXsiA",
      "include_colab_link": true
    },
    "kernelspec": {
      "name": "python3",
      "display_name": "Python 3"
    },
    "language_info": {
      "name": "python"
    }
  },
  "cells": [
    {
      "cell_type": "markdown",
      "metadata": {
        "id": "view-in-github",
        "colab_type": "text"
      },
      "source": [
        "<a href=\"https://colab.research.google.com/github/samarrkilfaden-droid/advanced_ai_exercises/blob/main/Day3_task1.ipynb\" target=\"_parent\"><img src=\"https://colab.research.google.com/assets/colab-badge.svg\" alt=\"Open In Colab\"/></a>"
      ]
    },
    {
      "cell_type": "code",
      "execution_count": 1,
      "metadata": {
        "colab": {
          "base_uri": "https://localhost:8080/"
        },
        "id": "pNoGSbELBPce",
        "outputId": "891663fa-74d7-4240-e68a-1fc47ba804d9"
      },
      "outputs": [
        {
          "output_type": "stream",
          "name": "stderr",
          "text": [
            "100%|██████████| 9.91M/9.91M [00:00<00:00, 16.2MB/s]\n",
            "100%|██████████| 28.9k/28.9k [00:00<00:00, 483kB/s]\n",
            "100%|██████████| 1.65M/1.65M [00:00<00:00, 4.47MB/s]\n",
            "100%|██████████| 4.54k/4.54k [00:00<00:00, 9.11MB/s]\n"
          ]
        }
      ],
      "source": [
        "import torch, torchvision, torch.nn as nn\n",
        "from torch.utils.data import DataLoader\n",
        "from torchvision import transforms\n",
        "from torchvision.utils import make_grid\n",
        "import math\n",
        "\n",
        "device=torch.device('cuda' if torch.cuda.is_available() else 'cpu')\n",
        "batch_size=128; z_dim=64; g_lr=d_lr=2e-4; num_epochs=3\n",
        "transform=transforms.Compose([transforms.ToTensor(), transforms.Normalize((0.5,), (0.5,))])\n",
        "train_ds=torchvision.datasets.MNIST('./data',True,download=True,transform=transform)\n",
        "train_loader=DataLoader(train_ds,batch_size=batch_size,shuffle=True,num_workers=2,pin_memory=True)"
      ]
    },
    {
      "cell_type": "code",
      "source": [
        "class Generator(nn.Module):\n",
        "    def __init__(self,z_dim=64):\n",
        "        super().__init__()\n",
        "        # TODO: implement upsampling to 28x28 + Tanh\n",
        "        self.net=nn.Sequential(\n",
        "            nn.ConvTranspose2d(z_dim,128,7,1,0),\n",
        "            nn.BatchNorm2d(128),\n",
        "            nn.ReLU(True),\n",
        "            nn.ConvTranspose2d(128,64,4,2,1),\n",
        "            nn.BatchNorm2d(64),nn.ReLU(True),\n",
        "            nn.ConvTranspose2d(64,1,4,2,1),\n",
        "            nn.Tanh())\n",
        "\n",
        "    def forward(self,z):\n",
        "         z=z.view(z.size(0),z_dim,1,1); return self.net(z)\n",
        "class Discriminator(nn.Module):\n",
        "    def __init__(self):\n",
        "        super().__init__()\n",
        "        # TODO: downsample to 1 logit (no Sigmoid)\n",
        "        self.net=nn.Sequential(nn.Conv2d(1,32,4,2,1),\n",
        "                                                   nn.LeakyReLU(0.2,True),\n",
        "                                                   nn.Conv2d(32,64,4,2,1),\n",
        "                                                   nn.BatchNorm2d(64),\n",
        "                                                   nn.LeakyReLU(0.2,True),\n",
        "                                                   nn.Conv2d(64,1,7,1,0))\n",
        "\n",
        "    def forward(self,x):\n",
        "        return self.net(x).view(x.size(0),1)"
      ],
      "metadata": {
        "id": "METxnadabqod"
      },
      "execution_count": 15,
      "outputs": []
    },
    {
      "cell_type": "code",
      "source": [
        "criterion=nn.BCEWithLogitsLoss()\n",
        "G=Generator(z_dim).to(device); D=Discriminator().to(device)\n",
        "opt_g=torch.optim.Adam(G.parameters(),lr=g_lr,betas=(0.5,0.999))\n",
        "opt_d=torch.optim.Adam(D.parameters(),lr=d_lr,betas=(0.5,0.999))"
      ],
      "metadata": {
        "id": "cqJiiQBSbtmY"
      },
      "execution_count": 16,
      "outputs": []
    },
    {
      "cell_type": "code",
      "source": [
        "@torch.no_grad()\n",
        "def sample_grid(G,n=16):\n",
        "    z=torch.randn(n,64,device=device).view(n,64,1,1)\n",
        "    fake=G(z).cpu()\n",
        "    return make_grid(fake,nrow=int(math.sqrt(n)),normalize=True,value_range=(-1,1))"
      ],
      "metadata": {
        "id": "yvPjS35kbwX1"
      },
      "execution_count": 17,
      "outputs": []
    },
    {
      "cell_type": "code",
      "source": [
        "def train_discriminator_step(real):\n",
        "    # TODO: Goodfellow D loss with detach on fake\n",
        "    real=real.to(device); b=real.size(0)\n",
        "    z=torch.randn(b,z_dim,device=device); fake=G(z.view(b,z_dim,1,1))\n",
        "    loss_d=criterion(D(real),torch.ones(b,1,device=device))+criterion(D(fake),torch.zeros(b,1,device=device))  # BUG labels(fixed)\n",
        "    loss_d.backward(); opt_d.step()\n",
        "\n",
        "\n",
        "def train_generator_step(b):\n",
        "    # TODO: non-saturating G loss\n",
        "    z=torch.randn(b,z_dim,device=device); fake=G(z.view(b,z_dim,1,1))\n",
        "    loss_g=criterion(D(fake),torch.ones(b,1,device=device))  # BUG non-sat (fixed)\n",
        "    loss_g.backward() ; opt_g.step()\n",
        ""
      ],
      "metadata": {
        "id": "idfi1VikbzQT"
      },
      "execution_count": 18,
      "outputs": []
    },
    {
      "cell_type": "code",
      "source": [
        "from tqdm import tqdm\n",
        "for epoch in range(num_epochs):\n",
        "    pbar=tqdm(train_loader)\n",
        "    for real,_ in pbar:\n",
        "        real=real.to(device)\n",
        "        d=train_discriminator_step(real)\n",
        "        g=train_generator_step(real.size(0))\n",
        "        pbar.set_postfix(d_loss=d,g_loss=g)\n",
        "print('Done')"
      ],
      "metadata": {
        "colab": {
          "base_uri": "https://localhost:8080/"
        },
        "id": "8KbyGjokb2KA",
        "outputId": "661625b6-7b87-4e4c-8226-6c2d58afec7c"
      },
      "execution_count": null,
      "outputs": [
        {
          "output_type": "stream",
          "name": "stderr",
          "text": [
            "\r  0%|          | 0/469 [00:00<?, ?it/s]/usr/local/lib/python3.12/dist-packages/torch/utils/data/dataloader.py:666: UserWarning: 'pin_memory' argument is set as true but no accelerator is found, then device pinned memory won't be used.\n",
            "  warnings.warn(warn_msg)\n",
            "100%|██████████| 469/469 [04:25<00:00,  1.77it/s, d_loss=None, g_loss=None]\n",
            "100%|██████████| 469/469 [04:16<00:00,  1.83it/s, d_loss=None, g_loss=None]\n",
            " 57%|█████▋    | 265/469 [02:25<02:07,  1.60it/s, d_loss=None, g_loss=None]"
          ]
        }
      ]
    },
    {
      "cell_type": "code",
      "source": [],
      "metadata": {
        "id": "77ZXTuhLeNCT"
      },
      "execution_count": null,
      "outputs": []
    }
  ]
}