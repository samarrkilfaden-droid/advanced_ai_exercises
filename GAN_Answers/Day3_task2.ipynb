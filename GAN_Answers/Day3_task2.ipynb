{
  "nbformat": 4,
  "nbformat_minor": 0,
  "metadata": {
    "colab": {
      "provenance": [],
      "authorship_tag": "ABX9TyP40JVefWctjqEJ6b41fjbz",
      "include_colab_link": true
    },
    "kernelspec": {
      "name": "python3",
      "display_name": "Python 3"
    },
    "language_info": {
      "name": "python"
    }
  },
  "cells": [
    {
      "cell_type": "markdown",
      "metadata": {
        "id": "view-in-github",
        "colab_type": "text"
      },
      "source": [
        "<a href=\"https://colab.research.google.com/github/samarrkilfaden-droid/advanced_ai_exercises/blob/main/Day3_task2.ipynb\" target=\"_parent\"><img src=\"https://colab.research.google.com/assets/colab-badge.svg\" alt=\"Open In Colab\"/></a>"
      ]
    },
    {
      "cell_type": "code",
      "execution_count": 5,
      "metadata": {
        "id": "c2F_PyjtN21v"
      },
      "outputs": [],
      "source": [
        "import torch, torchvision, torch.nn as nn\n",
        "from torch.utils.data import DataLoader\n",
        "from torchvision import transforms\n",
        "import torch\n",
        "import torch.nn.functional as F"
      ]
    },
    {
      "cell_type": "code",
      "source": [
        "device=torch.device('cuda' if torch.cuda.is_available() else 'cpu')\n",
        "transform=transforms.Compose([transforms.ToTensor(),transforms.Normalize([0.5], [0.5])]) # BUG normalize\n",
        "loader=DataLoader(torchvision.datasets.MNIST('./data',download=True,train=True,transform=transform),batch_size=256,shuffle=True,num_workers=2,pin_memory=True)\n",
        "z_dim=100; g_lr=2e-2; d_lr=2e-5"
      ],
      "metadata": {
        "id": "_9fK8pJVN5o0"
      },
      "execution_count": 2,
      "outputs": []
    },
    {
      "cell_type": "code",
      "source": [
        "loader"
      ],
      "metadata": {
        "colab": {
          "base_uri": "https://localhost:8080/"
        },
        "id": "EmkVL8LqQSz8",
        "outputId": "dbdd50d5-7a17-47f1-c569-e517ff2e6b8a"
      },
      "execution_count": 3,
      "outputs": [
        {
          "output_type": "execute_result",
          "data": {
            "text/plain": [
              "<torch.utils.data.dataloader.DataLoader at 0x7c2601b659d0>"
            ]
          },
          "metadata": {},
          "execution_count": 3
        }
      ]
    },
    {
      "cell_type": "code",
      "source": [
        "class D(nn.Module):\n",
        "    def __init__(self):\n",
        "        super().__init__(); self.net=nn.Sequential(nn.Conv2d(1,32,4,2,1),\n",
        "                                                   nn.LeakyReLU(0.2,True),\n",
        "                                                   nn.Conv2d(32,64,4,2,1),\n",
        "                                                   nn.BatchNorm2d(64),\n",
        "                                                   nn.LeakyReLU(0.2,True),\n",
        "                                                   nn.Conv2d(64,1,7,1,0),\n",
        "                                                   nn.Sigmoid())\n",
        "    def forward(self,x):return self.net(x).view(x.size(0),1)\n",
        "\n",
        "\n",
        "\n",
        "class G(nn.Module):\n",
        "    def __init__(self):\n",
        "        super().__init__();\n",
        "        self.net=nn.Sequential(\n",
        "            nn.ConvTranspose2d(100,128,7,1,0),\n",
        "            nn.BatchNorm2d(128),\n",
        "            nn.ReLU(True),\n",
        "            nn.ConvTranspose2d(128,64,4,2,1),\n",
        "            nn.BatchNorm2d(64),nn.ReLU(True),\n",
        "            nn.ConvTranspose2d(64,1,4,2,1),\n",
        "            nn.Tanh())  # BUG missing Tanh\n",
        "\n",
        "\n",
        "    def forward(self,z):\n",
        "      z=z.view(z.size(0),100,1,1); return self.net(z)  # BUG reshape\n",
        "Dnet=D().to(device); Gnet=G().to(device)\n",
        "crit=nn.BCEWithLogitsLoss(); opt_d=torch.optim.Adam(Dnet.parameters(),lr=d_lr,betas=(0.9,0.999)); opt_g=torch.optim.Adam(Gnet.parameters(),lr=g_lr,betas=(0.9,0.999))\n",
        ""
      ],
      "metadata": {
        "id": "TszzPkYfN9vg"
      },
      "execution_count": 19,
      "outputs": []
    },
    {
      "cell_type": "code",
      "source": [
        "from tqdm import tqdm\n",
        "for real,_ in tqdm(loader):\n",
        "    real=real.to(device); b=real.size(0)\n",
        "    #train dis\n",
        "    z=torch.randn(b,z_dim,device=device); fake=Gnet(z.view(b,z_dim,1,1))\n",
        "    loss_d=crit(Dnet(real),torch.ones(b,1,device=device))+crit(Dnet(fake),torch.zeros(b,1,device=device))  # BUG labels(fixed)\n",
        "    loss_d.backward(); opt_d.step()  # BUG (fixed)\n",
        "    z=torch.randn(b,z_dim,device=device); fake=Gnet(z.view(b,z_dim,1,1))\n",
        "    loss_g=crit(Dnet(fake),torch.ones(b,1,device=device))  # BUG non-sat (fixed)\n",
        "    loss_g.backward() ; opt_g.step()\n",
        "     # BUG missing step (fixed)\n",
        "print('Now fix all the issues.')\n",
        ""
      ],
      "metadata": {
        "colab": {
          "base_uri": "https://localhost:8080/"
        },
        "id": "cubih40pOERl",
        "outputId": "dc844bf4-3fe8-4041-b929-8e49ed22ee80"
      },
      "execution_count": 20,
      "outputs": [
        {
          "output_type": "stream",
          "name": "stderr",
          "text": [
            "100%|██████████| 235/235 [04:27<00:00,  1.14s/it]"
          ]
        },
        {
          "output_type": "stream",
          "name": "stdout",
          "text": [
            "Now fix all the issues.\n"
          ]
        },
        {
          "output_type": "stream",
          "name": "stderr",
          "text": [
            "\n"
          ]
        }
      ]
    }
  ]
}
